{
  "nbformat": 4,
  "nbformat_minor": 0,
  "metadata": {
    "colab": {
      "name": "math_matrix.ipynb",
      "provenance": [],
      "include_colab_link": true
    },
    "kernelspec": {
      "name": "python3",
      "display_name": "Python 3"
    }
  },
  "cells": [
    {
      "cell_type": "markdown",
      "metadata": {
        "id": "view-in-github",
        "colab_type": "text"
      },
      "source": [
        "<a href=\"https://colab.research.google.com/github/sonoko-jpg/section_1/blob/main/section_7/math_matrix.ipynb\" target=\"_parent\"><img src=\"https://colab.research.google.com/assets/colab-badge.svg\" alt=\"Open In Colab\"/></a>"
      ]
    },
    {
      "cell_type": "markdown",
      "metadata": {
        "id": "sdutNqMPGrhw"
      },
      "source": [
        "# 行列積と転置\n",
        "機械学習において有用な、行列積と転置について学びます。  \n",
        "これらを用いることで、機械学習のコードを短く効率的に記述することが可能になります。  "
      ]
    },
    {
      "cell_type": "markdown",
      "metadata": {
        "id": "wp_qfeRDr01y"
      },
      "source": [
        "## ● 行列\n",
        "行列は数値が格子状に並んだもので、数式上は以下のように表されます。  \n",
        "\n",
        "$$\n",
        "   A  = \\left(\n",
        "    \\begin{array}{cccc}\n",
        "      0 & 1 & 2 & 3\\\\\n",
        "      1 & 2 & 3 & 4 \\\\\n",
        "      2 & 3 & 4 & 5 \\\\\n",
        "    \\end{array}\n",
        "      \\right) \\\\\n",
        "$$\n",
        "\n",
        "このような行列ですが、コード上はNumPyの配列を使って以下のように表すことができます。"
      ]
    },
    {
      "cell_type": "code",
      "metadata": {
        "id": "rpcPJJfvr_Vy"
      },
      "source": [
        "import numpy as np\n",
        "\n",
        "a = np.array([[0, 1, 2, 3],  # 行列\n",
        "              [1, 2, 3, 4],\n",
        "              [2, 3, 4, 5]])\n",
        "print(a)"
      ],
      "execution_count": null,
      "outputs": []
    },
    {
      "cell_type": "markdown",
      "metadata": {
        "id": "YJKPCuPE5GPo"
      },
      "source": [
        "## ● 行列積\n",
        "以下の行列$A$、$B$を考えます。\n",
        "\n",
        "$$\n",
        "   A  = \\left(\n",
        "    \\begin{array}{ccc}\n",
        "      0 & 1 & 2 \\\\\n",
        "      1 & 2 & 3 \\\\\n",
        "    \\end{array}\n",
        "  \\right) \\\\\n",
        "   B  = \\left(\n",
        "    \\begin{array}{cc}\n",
        "      2 & 1 \\\\\n",
        "      2 & 1 \\\\\n",
        "      2 & 1 \\\\\n",
        "    \\end{array}\n",
        "  \\right) \\\\\n",
        "$$\n",
        "\n",
        "これらの行列の**行列積**は、以下の通りに計算します。  \n",
        "前の行列の「行」と、後ろの行列の「列」の各要素の積の総和が、新しい行列の要素になります。\n",
        "\n",
        "$$\n",
        "AB = \\left(\n",
        "    \\begin{array}{ccc}\n",
        "      0 & 1 & 2 \\\\\n",
        "      1 & 2 & 3 \\\\\n",
        "    \\end{array}\n",
        "  \\right)\n",
        "  \\left(\n",
        "    \\begin{array}{cc}\n",
        "      2 & 1 \\\\\n",
        "      2 & 1 \\\\\n",
        "      2 & 1 \\\\\n",
        "    \\end{array}\n",
        "  \\right) \\\\\n",
        "= \\left(\n",
        "    \\begin{array}{ccc}\n",
        "      0\\times 2+1\\times 2+2\\times 2 & 0\\times 1+1\\times 1+2\\times 1 \\\\\n",
        "      1\\times 2+2\\times 2+3\\times 2 & 1\\times 1+2\\times 1+3\\times 1 \\\\\n",
        "    \\end{array}\n",
        "  \\right) \\\\\n",
        "= \\left(\n",
        "    \\begin{array}{ccc}\n",
        "      6 & 3 \\\\\n",
        "      12 & 6 \\\\\n",
        "    \\end{array}\n",
        "  \\right)\n",
        "$$\n",
        "\n",
        "数値同士の積と異なり、行列積においては前の行列と後ろの行列の交換は特定の条件を除きできません。  \n",
        "そして、行列積を計算するためには、前の行列の列数と、後ろの行列の行数が一致していなければいけません。  \n",
        "例えば、前の行列の列数が3であれば、後ろの行列の行数は3である必要があります。   \n",
        "  \n",
        "以下のコードでは、上記の行列積をNumPyの`dot`関数を使って計算しています。"
      ]
    },
    {
      "cell_type": "code",
      "metadata": {
        "id": "R0D3xQlh3VAm"
      },
      "source": [
        "import numpy as np\n",
        "\n",
        "a = np.array([[0, 1, 2],\n",
        "              [1, 2, 3]])\n",
        "b = np.array([[2, 1],\n",
        "              [2, 1],\n",
        "              [2, 1]])\n",
        "\n",
        "c = np.dot(a, b)  # 行列積\n",
        "print(c)"
      ],
      "execution_count": null,
      "outputs": []
    },
    {
      "cell_type": "markdown",
      "metadata": {
        "id": "Rt8pBGC3YiCx"
      },
      "source": [
        "ニューラルネットワークはしばしば非常に多くのパラメータを扱いますが、これらは行列に格納することができます。  \n",
        "そして、行列積を使えば入力と重みの積の総和を一行で記述することができます。   \n",
        "\n"
      ]
    },
    {
      "cell_type": "code",
      "metadata": {
        "id": "hJGIWmf3hvrd"
      },
      "source": [
        "import numpy as np\n",
        "\n",
        "# 入力:3 ニューロン:2\n",
        "x = np.array([[0, 0.5, 1.0]])  # 入力\n",
        "w = np.array([[-1, 1],  # 重み\n",
        "              [1, -1],\n",
        "              [-1, 1]])\n",
        "\n",
        "print(np.dot(x, w))  # 入力と重みの積の総和"
      ],
      "execution_count": null,
      "outputs": []
    },
    {
      "cell_type": "markdown",
      "metadata": {
        "id": "FSHd1utlGMJK"
      },
      "source": [
        "## ● 転置\n",
        "行列に対する重要な操作の1つに、**転置**があります。  \n",
        "行列を転置することにより、行と列が入れ替わります。  \n",
        "以下は転置の例ですが、例えば行列$A$の転置行列は$A^{\\mathrm{T}}$と表します。  \n",
        "\n",
        "$$  \\begin{aligned} \\\\\n",
        "   A & = \\left(\n",
        "    \\begin{array}{ccc}\n",
        "      1 & 2 & 3 \\\\\n",
        "      4 & 5 & 6 \\\\\n",
        "    \\end{array}\n",
        "  \\right) \\\\\n",
        "   A^{\\mathrm{T}} & = \\left(\n",
        "    \\begin{array}{cc}\n",
        "      1 & 4 \\\\\n",
        "      2 & 5 \\\\\n",
        "      3 & 6 \\\\\n",
        "    \\end{array}\n",
        "  \\right) \\\\\n",
        "\\end{aligned} $$\n",
        "\n",
        "NumPyにおいて、転置した行列は配列の後に`.T`をつけることで得ることができます。  "
      ]
    },
    {
      "cell_type": "code",
      "metadata": {
        "id": "xdiQNIsRGM4W"
      },
      "source": [
        "import numpy as np\n",
        "\n",
        "a = np.array([[1, 2, 3],\n",
        "              [4, 5, 6]])\n",
        "print(a.T)  # 転置"
      ],
      "execution_count": null,
      "outputs": []
    },
    {
      "cell_type": "markdown",
      "metadata": {
        "id": "-kgEGLQE0gPS"
      },
      "source": [
        "行列積では、前の行列の列数と、後ろの行列の行数が一致する必要があります。  \n",
        "しかしながら、一致しなくても転置により行列積が可能になる場合があります。  "
      ]
    },
    {
      "cell_type": "code",
      "metadata": {
        "id": "S5Y2Q80n0mMF"
      },
      "source": [
        "import numpy as np\n",
        "\n",
        "a = np.array([[0, 1, 2],\n",
        "              [1, 2, 3]])  # 2x3の行列\n",
        "b = np.array([[0, 1, 2],\n",
        "              [1, 2, 3]])  # 2x3の行列 このままでは行列積ができない\n",
        "\n",
        "# print(np.dot(a, b))  # 転置しないで行列積をとるとエラー\n",
        "print(np.dot(a, b.T))  # 転置により行列積が可能に"
      ],
      "execution_count": null,
      "outputs": []
    }
  ]
}